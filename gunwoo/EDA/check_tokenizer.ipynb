{
 "cells": [
  {
   "cell_type": "markdown",
   "metadata": {},
   "source": [
    "# check baseline tokenizer\n",
    "baseline 모델인 klue/bert-base의 tokenizer로 train data를 tokenizing했을 때의 길이 분포를 확인하고자 함\n",
    "이를 통해 max_length를 적절하게 조절할 수 있음"
   ]
  },
  {
   "cell_type": "code",
   "execution_count": 1,
   "metadata": {},
   "outputs": [],
   "source": [
    "import numpy as np\n",
    "import pandas as pd\n",
    "import matplotlib.pyplot as plt\n",
    "from transformers import AutoTokenizer"
   ]
  },
  {
   "cell_type": "code",
   "execution_count": 2,
   "metadata": {},
   "outputs": [],
   "source": [
    "train_data = pd.read_csv(\"../../data/train.csv\")"
   ]
  },
  {
   "cell_type": "code",
   "execution_count": 3,
   "metadata": {},
   "outputs": [
    {
     "data": {
      "text/html": [
       "<div>\n",
       "<style scoped>\n",
       "    .dataframe tbody tr th:only-of-type {\n",
       "        vertical-align: middle;\n",
       "    }\n",
       "\n",
       "    .dataframe tbody tr th {\n",
       "        vertical-align: top;\n",
       "    }\n",
       "\n",
       "    .dataframe thead th {\n",
       "        text-align: right;\n",
       "    }\n",
       "</style>\n",
       "<table border=\"1\" class=\"dataframe\">\n",
       "  <thead>\n",
       "    <tr style=\"text-align: right;\">\n",
       "      <th></th>\n",
       "      <th>ID</th>\n",
       "      <th>text</th>\n",
       "      <th>target</th>\n",
       "      <th>url</th>\n",
       "      <th>date</th>\n",
       "    </tr>\n",
       "  </thead>\n",
       "  <tbody>\n",
       "    <tr>\n",
       "      <th>0</th>\n",
       "      <td>ynat-v1_train_00000</td>\n",
       "      <td>개포2단지 분양 앞두고 개포지구 재건축 불붙어</td>\n",
       "      <td>1</td>\n",
       "      <td>https://news.naver.com/main/read.nhn?mode=LS2D...</td>\n",
       "      <td>2016.03.16. 오전 11:37</td>\n",
       "    </tr>\n",
       "    <tr>\n",
       "      <th>1</th>\n",
       "      <td>ynat-v1_train_00001</td>\n",
       "      <td>삼성전자 KBIS 2018서 셰프컬렉션 선보여</td>\n",
       "      <td>0</td>\n",
       "      <td>https://news.naver.com/main/read.nhn?mode=LS2D...</td>\n",
       "      <td>2018.01.10. 오전 8:33</td>\n",
       "    </tr>\n",
       "    <tr>\n",
       "      <th>2</th>\n",
       "      <td>ynat-v1_train_00002</td>\n",
       "      <td>LG G6 사면 BO 이어폰이 단돈 5천원</td>\n",
       "      <td>0</td>\n",
       "      <td>https://news.naver.com/main/read.nhn?mode=LS2D...</td>\n",
       "      <td>2017.04.30. 오전 10:00</td>\n",
       "    </tr>\n",
       "    <tr>\n",
       "      <th>3</th>\n",
       "      <td>ynat-v1_train_00003</td>\n",
       "      <td>신간 블록체인혁명 2030·남자의 고독사</td>\n",
       "      <td>3</td>\n",
       "      <td>https://news.naver.com/main/read.nhn?mode=LS2D...</td>\n",
       "      <td>2019.06.13. 오전 11:49</td>\n",
       "    </tr>\n",
       "    <tr>\n",
       "      <th>4</th>\n",
       "      <td>ynat-v1_train_00004</td>\n",
       "      <td>이스라엘 정보당국 팔레스타인인 50명 테러 혐의로 체포</td>\n",
       "      <td>4</td>\n",
       "      <td>https://news.naver.com/main/read.nhn?mode=LS2D...</td>\n",
       "      <td>2019.12.18. 오후 11:15</td>\n",
       "    </tr>\n",
       "  </tbody>\n",
       "</table>\n",
       "</div>"
      ],
      "text/plain": [
       "                    ID                            text  target   \n",
       "0  ynat-v1_train_00000       개포2단지 분양 앞두고 개포지구 재건축 불붙어       1  \\\n",
       "1  ynat-v1_train_00001       삼성전자 KBIS 2018서 셰프컬렉션 선보여       0   \n",
       "2  ynat-v1_train_00002         LG G6 사면 BO 이어폰이 단돈 5천원       0   \n",
       "3  ynat-v1_train_00003          신간 블록체인혁명 2030·남자의 고독사       3   \n",
       "4  ynat-v1_train_00004  이스라엘 정보당국 팔레스타인인 50명 테러 혐의로 체포       4   \n",
       "\n",
       "                                                 url                  date  \n",
       "0  https://news.naver.com/main/read.nhn?mode=LS2D...  2016.03.16. 오전 11:37  \n",
       "1  https://news.naver.com/main/read.nhn?mode=LS2D...   2018.01.10. 오전 8:33  \n",
       "2  https://news.naver.com/main/read.nhn?mode=LS2D...  2017.04.30. 오전 10:00  \n",
       "3  https://news.naver.com/main/read.nhn?mode=LS2D...  2019.06.13. 오전 11:49  \n",
       "4  https://news.naver.com/main/read.nhn?mode=LS2D...  2019.12.18. 오후 11:15  "
      ]
     },
     "execution_count": 3,
     "metadata": {},
     "output_type": "execute_result"
    }
   ],
   "source": [
    "train_data.head()"
   ]
  },
  {
   "cell_type": "code",
   "execution_count": 10,
   "metadata": {},
   "outputs": [],
   "source": [
    "tokenizer = AutoTokenizer.from_pretrained(\"klue/bert-base\")"
   ]
  },
  {
   "cell_type": "code",
   "execution_count": 32,
   "metadata": {},
   "outputs": [],
   "source": [
    "tokenized_data = []\n",
    "for item in train_data[\"text\"]:\n",
    "    output = tokenizer(item, add_special_tokens=True)\n",
    "    tokenized_data.append(len(output[\"input_ids\"]))"
   ]
  },
  {
   "cell_type": "code",
   "execution_count": 33,
   "metadata": {},
   "outputs": [
    {
     "data": {
      "image/png": "[encoded data removed]",
      "text/plain": [
       "<Figure size 500x500 with 1 Axes>"
      ]
     },
     "metadata": {},
     "output_type": "display_data"
    }
   ],
   "source": [
    "plt.figure(figsize=(5,5))\n",
    "plt.hist(tokenized_data, bins=20)\n",
    "plt.show()"
   ]
  },
  {
   "cell_type": "code",
   "execution_count": 34,
   "metadata": {},
   "outputs": [
    {
     "name": "stdout",
     "output_type": "stream",
     "text": [
      "tokenized max :  29\n"
     ]
    }
   ],
   "source": [
    "# padding=\"max_length\"로 지정하지 않은 경우에는 max : 29\n",
    "print(\"tokenized max : \", max(tokenized_data))"
   ]
  },
  {
   "cell_type": "code",
   "execution_count": 35,
   "metadata": {},
   "outputs": [],
   "source": [
    "# padding=\"max_length\"로 지정한 경우 --> baseline에서 사용한 방법\n",
    "text_list = list(train_data[\"text\"])\n",
    "output2 = tokenizer(text_list, padding='max_length', truncation=True, return_tensors='pt', add_special_tokens=True)\n",
    "tokenized_data2 = [len(x) for x in output2[\"input_ids\"]]"
   ]
  },
  {
   "cell_type": "code",
   "execution_count": 36,
   "metadata": {},
   "outputs": [
    {
     "data": {
      "image/png": "[encoded data removed]",
      "text/plain": [
       "<Figure size 500x500 with 1 Axes>"
      ]
     },
     "metadata": {},
     "output_type": "display_data"
    }
   ],
   "source": [
    "plt.figure(figsize=(5,5))\n",
    "plt.hist(tokenized_data2, bins=20)\n",
    "plt.show()"
   ]
  },
  {
   "cell_type": "code",
   "execution_count": 37,
   "metadata": {},
   "outputs": [
    {
     "name": "stdout",
     "output_type": "stream",
     "text": [
      "tokenized max :  512\n"
     ]
    }
   ],
   "source": [
    "# padding=\"max_length\"로 지정한 경우의 max : 512\n",
    "print(\"tokenized max : \", max(tokenized_data2))"
   ]
  },
  {
   "cell_type": "markdown",
   "metadata": {},
   "source": [
    "# 결론\n",
    "baseline에서 사용하는 padding=\"max_length\"는 모델이 입력받을 수 있는 최대 크기인 512로 길이가 맞춰진다.\n",
    "그래서 padding 토큰이 각 입력마다 많이 들어가게 되고, 이는 너무 비효율적이다.\n",
    "klue/bert-base의 tokenizer로 train data를 tokenizing한 데이터의 max는 29이므로, \n",
    "max_length=32, padding=True로 설정해서 사용하자"
   ]
  }
 ],
 "metadata": {
  "kernelspec": {
   "display_name": "base",
   "language": "python",
   "name": "python3"
  },
  "language_info": {
   "codemirror_mode": {
    "name": "ipython",
    "version": 3
   },
   "file_extension": ".py",
   "mimetype": "text/x-python",
   "name": "python",
   "nbconvert_exporter": "python",
   "pygments_lexer": "ipython3",
   "version": "3.8.5"
  }
 },
 "nbformat": 4,
 "nbformat_minor": 2
}
