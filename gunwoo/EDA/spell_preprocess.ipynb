{
 "cells": [
  {
   "cell_type": "markdown",
   "metadata": {},
   "source": [
    "# 데이터 전처리\n",
    "- py-hanspell\n",
    "- 부산대학교 맞춤법 검사기"
   ]
  },
  {
   "cell_type": "markdown",
   "metadata": {},
   "source": [
    "### 1. py-hanspell\n",
    "설치 방법\n",
    "1. git clone https://github.com/ssut/py-hanspell\n",
    "2. cd py-hanspell\n",
    "3. python setup.py install\n",
    "\n",
    "수정 사항\n",
    "- py-hanspell을 사용하면 error가 발생. 웹에서 네이버 맞춤법검사기에 접속 -> F12를 누르고 \"network\"목록에 들어간 후 맞춤법검사기를 아무거나 1번 실행 -> passportKey값을 copy\n",
    "- py-hanspell/hanspell/spell_checker.py 에서 payload변수에 passportKey값을 추가.\n",
    "- python setup.py install을 실행한 후, 사용"
   ]
  },
  {
   "cell_type": "code",
   "execution_count": 50,
   "metadata": {},
   "outputs": [
    {
     "name": "stdout",
     "output_type": "stream",
     "text": [
      "왜 안돼\n"
     ]
    }
   ],
   "source": [
    "from hanspell import spell_checker\n",
    "\n",
    "text = \"외않되\"\n",
    "\n",
    "spelled_text = spell_checker.check(text)\n",
    "if spelled_text.errors > 0:\n",
    "    print(spelled_text.checked)"
   ]
  },
  {
   "cell_type": "markdown",
   "metadata": {},
   "source": [
    "### py-hanspell을 사용해 train data 수정"
   ]
  },
  {
   "cell_type": "code",
   "execution_count": 51,
   "metadata": {},
   "outputs": [],
   "source": [
    "from tqdm import tqdm\n",
    "import pandas as pd"
   ]
  },
  {
   "cell_type": "code",
   "execution_count": 55,
   "metadata": {},
   "outputs": [],
   "source": [
    "train_data = pd.read_csv(\"../../data/train.csv\")"
   ]
  },
  {
   "cell_type": "code",
   "execution_count": 57,
   "metadata": {},
   "outputs": [
    {
     "name": "stderr",
     "output_type": "stream",
     "text": [
      "py-hanspell: 100%|██████████| 7000/7000 [03:25<00:00, 34.10it/s]\n"
     ]
    }
   ],
   "source": [
    "for idx, text in enumerate(tqdm(train_data[\"text\"], desc=\"py-hanspell\")):\n",
    "    spelled_text = spell_checker.check(text)\n",
    "    train_data.iloc[idx, 1] = spelled_text.checked"
   ]
  },
  {
   "cell_type": "markdown",
   "metadata": {},
   "source": [
    "### 2. 부산대학교 맞춤법 검사기\n",
    "requests를 사용해 맞춤법 검사기 웹사이트에 request를 보내고 받는 형식으로 사용"
   ]
  },
  {
   "cell_type": "code",
   "execution_count": 47,
   "metadata": {},
   "outputs": [],
   "source": [
    "import json\n",
    "import requests"
   ]
  },
  {
   "cell_type": "code",
   "execution_count": 19,
   "metadata": {},
   "outputs": [],
   "source": [
    "text = \"이뤄 뢰구긴 관광개 길보니 한구긔 이배…격차 계소 콱때되나\""
   ]
  },
  {
   "cell_type": "code",
   "execution_count": 20,
   "metadata": {},
   "outputs": [
    {
     "data": {
      "text/plain": [
       "[{'help': '철자 검사를 해 보니 이 어절은 분석할 수 없으므로 틀린 말로 판단하였습니다.<br/><br/>후보 어절은 이 철자검사/교정기에서 띄어쓰기, 붙여 쓰기, 음절대치와 같은 교정방법에 따라 수정한 결과입니다.<br/><br/>후보 어절 중 선택하시거나 오류 어절을 수정하여 주십시오.<br/><br/>* 단, 사전에 없는 단어이거나 사용자가 올바르다고 판단한 어절에 대해서는 통과하세요!!',\n",
       "  'errorIdx': 0,\n",
       "  'correctMethod': 1,\n",
       "  'start': 3,\n",
       "  'errMsg': '',\n",
       "  'end': 6,\n",
       "  'orgStr': '뢰구긴',\n",
       "  'candWord': '외국이긴'},\n",
       " {'help': '입력 오류입니다.',\n",
       "  'errorIdx': 1,\n",
       "  'correctMethod': 2,\n",
       "  'start': 7,\n",
       "  'errMsg': '',\n",
       "  'end': 10,\n",
       "  'orgStr': '관광개',\n",
       "  'candWord': '관광객'},\n",
       " {'help': '입력 오류입니다.',\n",
       "  'errorIdx': 2,\n",
       "  'correctMethod': 2,\n",
       "  'start': 15,\n",
       "  'errMsg': '',\n",
       "  'end': 18,\n",
       "  'orgStr': '한구긔',\n",
       "  'candWord': '한국의|한 구의|한도의'},\n",
       " {'help': '곱절 이익, 타원형 잔, 귀양살이 위치를 옮김을 뜻하면 쓸 수 있습니다.',\n",
       "  'errorIdx': 3,\n",
       "  'correctMethod': 2,\n",
       "  'start': 19,\n",
       "  'errMsg': '',\n",
       "  'end': 21,\n",
       "  'orgStr': '이배',\n",
       "  'candWord': '이 배|두 배|곱절 이익|타원형 잔|귀양살이 위치를 옮김'},\n",
       " {'help': '입력 오류입니다.',\n",
       "  'errorIdx': 4,\n",
       "  'correctMethod': 2,\n",
       "  'start': 25,\n",
       "  'errMsg': '',\n",
       "  'end': 27,\n",
       "  'orgStr': '계소',\n",
       "  'candWord': '계속|계수'},\n",
       " {'help': '철자 검사를 해 보니 이 어절은 분석할 수 없으므로 틀린 말로 판단하였습니다.<br/><br/>후보 어절은 이 철자검사/교정기에서 띄어쓰기, 붙여 쓰기, 음절대치와 같은 교정방법에 따라 수정한 결과입니다.<br/><br/>후보 어절 중 선택하시거나 오류 어절을 수정하여 주십시오.<br/><br/>* 단, 사전에 없는 단어이거나 사용자가 올바르다고 판단한 어절에 대해서는 통과하세요!!',\n",
       "  'errorIdx': 5,\n",
       "  'correctMethod': 1,\n",
       "  'start': 28,\n",
       "  'errMsg': '',\n",
       "  'end': 32,\n",
       "  'orgStr': '콱때되나',\n",
       "  'candWord': '콱 때 되나?|콱 때 되나!'}]"
      ]
     },
     "execution_count": 20,
     "metadata": {},
     "output_type": "execute_result"
    }
   ],
   "source": [
    "response = requests.post('http://164.125.7.61/speller/results', data={'text1': text})\n",
    "data = response.text.split('data = [', 1)[-1].rsplit('];', 1)[0]\n",
    "data = json.loads(data)\n",
    "data[\"errInfo\"]"
   ]
  },
  {
   "cell_type": "markdown",
   "metadata": {},
   "source": [
    "### 부산대 맞춤법 검사기로 train data수정"
   ]
  },
  {
   "cell_type": "code",
   "execution_count": 49,
   "metadata": {},
   "outputs": [
    {
     "name": "stderr",
     "output_type": "stream",
     "text": [
      "100%|██████████| 7000/7000 [40:22<00:00,  2.89it/s]  \n"
     ]
    }
   ],
   "source": [
    "from tqdm import tqdm\n",
    "import pandas as pd\n",
    "import random\n",
    "import time\n",
    "import re\n",
    "\n",
    "train_data = pd.read_csv(\"../../data/train.csv\")\n",
    "\n",
    "num_of_error_list = []\n",
    "\n",
    "for idx, text in enumerate(tqdm(train_data[\"text\"])):\n",
    "    response = requests.post('http://164.125.7.61/speller/results', data={'text1': text})\n",
    "    data = response.text.split('data = [', 1)[-1].rsplit('];', 1)[0]\n",
    "    num_of_error = 0\n",
    "    \n",
    "    try:\n",
    "        data = json.loads(data)\n",
    "        \n",
    "        for info in data[\"errInfo\"]:\n",
    "            # 띄어쓰기 교정이 아닌 교정들만 count\n",
    "            if info[\"orgStr\"].replace(\" \", \"\") != info[\"candWord\"].split(\"|\")[0].replace(\" \", \"\"):\n",
    "                num_of_error += 1\n",
    "            text = re.sub(info[\"orgStr\"], info[\"candWord\"].split(\"|\")[0], text)\n",
    "        \n",
    "        train_data.iloc[idx, 1] = text\n",
    "    except:\n",
    "        pass\n",
    "    \n",
    "    num_of_error_list.append(num_of_error)\n",
    "    \n",
    "    if idx % 100 == 0:\n",
    "        time.sleep(random.uniform(2,4))"
   ]
  },
  {
   "cell_type": "code",
   "execution_count": 50,
   "metadata": {},
   "outputs": [],
   "source": [
    "preprocessed_data = train_data\n",
    "preprocessed_data[\"num error\"] = num_of_error_list"
   ]
  },
  {
   "cell_type": "code",
   "execution_count": 74,
   "metadata": {},
   "outputs": [
    {
     "name": "stdout",
     "output_type": "stream",
     "text": [
      "error 최대 수 :  7\n"
     ]
    }
   ],
   "source": [
    "# 띄어쓰기 교정은 error로 count되지 않았습니다.\n",
    "print(\"error 최대 수 : \", max(preprocessed_data[\"num error\"]))"
   ]
  },
  {
   "cell_type": "code",
   "execution_count": 75,
   "metadata": {},
   "outputs": [
    {
     "data": {
      "image/png": "[encoded data removed]",
      "text/plain": [
       "<Figure size 640x480 with 1 Axes>"
      ]
     },
     "metadata": {},
     "output_type": "display_data"
    }
   ],
   "source": [
    "import matplotlib.pyplot as plt\n",
    "\n",
    "x = [\"no error\", \"error < 2\", \"error < 3\", \"error < 4\", \"error < 5\", \"error < 6\", \"error < 7\", \"error < 8\"]\n",
    "y = [len(preprocessed_data[preprocessed_data[\"num error\"] < 1]), len(preprocessed_data[preprocessed_data[\"num error\"] < 2]),\n",
    "     len(preprocessed_data[preprocessed_data[\"num error\"] < 3]), len(preprocessed_data[preprocessed_data[\"num error\"] < 4]),\n",
    "     len(preprocessed_data[preprocessed_data[\"num error\"] < 5]), len(preprocessed_data[preprocessed_data[\"num error\"] < 6]),\n",
    "     len(preprocessed_data[preprocessed_data[\"num error\"] < 7]), len(preprocessed_data[preprocessed_data[\"num error\"] < 8])]\n",
    "\n",
    "plt.bar(x, y)\n",
    "plt.xticks(size=7)\n",
    "for i, v in enumerate(x):\n",
    "    plt.text(v, y[i], y[i],                 # 좌표 (x축 = v, y축 = y[0]..y[1], 표시 = y[0]..y[1])\n",
    "             fontsize = 9, \n",
    "             color='blue',\n",
    "             horizontalalignment='center',  # horizontalalignment (left, center, right)\n",
    "             verticalalignment='bottom')    # verticalalignment (top, center, bottom)\n",
    "\n",
    "plt.show()"
   ]
  },
  {
   "cell_type": "code",
   "execution_count": 57,
   "metadata": {},
   "outputs": [],
   "source": [
    "preprocessed_data_all = preprocessed_data\n",
    "preprocessed_data_less2 = preprocessed_data[preprocessed_data[\"num error\"] < 2]\n",
    "preprocessed_data_less3 = preprocessed_data[preprocessed_data[\"num error\"] < 3]\n",
    "preprocessed_data_less4 = preprocessed_data[preprocessed_data[\"num error\"] < 4]\n",
    "preprocessed_data_less5 = preprocessed_data[preprocessed_data[\"num error\"] < 5]\n",
    "preprocessed_data_less6 = preprocessed_data[preprocessed_data[\"num error\"] < 6]"
   ]
  },
  {
   "cell_type": "code",
   "execution_count": 58,
   "metadata": {},
   "outputs": [],
   "source": [
    "preprocessed_data_all.to_csv(\"../../data/train_spelled_all.csv\", index=False)\n",
    "preprocessed_data_less2.to_csv(\"../../data/train_spelled_less2.csv\", index=False)\n",
    "preprocessed_data_less3.to_csv(\"../../data/train_spelled_less3.csv\", index=False)\n",
    "preprocessed_data_less4.to_csv(\"../../data/train_spelled_less4.csv\", index=False)\n",
    "preprocessed_data_less5.to_csv(\"../../data/train_spelled_less5.csv\", index=False)\n",
    "preprocessed_data_less6.to_csv(\"../../data/train_spelled_less6.csv\", index=False)"
   ]
  }
 ],
 "metadata": {
  "kernelspec": {
   "display_name": "base",
   "language": "python",
   "name": "python3"
  },
  "language_info": {
   "codemirror_mode": {
    "name": "ipython",
    "version": 3
   },
   "file_extension": ".py",
   "mimetype": "text/x-python",
   "name": "python",
   "nbconvert_exporter": "python",
   "pygments_lexer": "ipython3",
   "version": "3.8.5"
  }
 },
 "nbformat": 4,
 "nbformat_minor": 2
}
