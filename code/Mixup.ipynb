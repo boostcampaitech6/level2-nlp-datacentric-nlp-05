{
 "cells": [
  {
   "cell_type": "markdown",
   "metadata": {},
   "source": [
    "# Mixup"
   ]
  },
  {
   "cell_type": "code",
   "execution_count": null,
   "metadata": {},
   "outputs": [],
   "source": [
    "import os\n",
    "import random\n",
    "from tqdm import tqdm\n",
    "import numpy as np\n",
    "import pandas as pd\n",
    "\n",
    "import torch\n",
    "from torch.utils.data import Dataset\n",
    "\n",
    "import evaluate\n",
    "from transformers import AutoModelForSequenceClassification, AutoTokenizer\n",
    "from transformers import DataCollatorWithPadding\n",
    "from transformers import TrainingArguments, Trainer\n",
    "\n",
    "from sklearn.model_selection import train_test_split"
   ]
  },
  {
   "cell_type": "code",
   "execution_count": null,
   "metadata": {},
   "outputs": [],
   "source": [
    "BASE_DIR = os.getcwd()\n",
    "DATA_DIR = os.path.join(BASE_DIR, '../data')\n",
    "data = pd.read_csv(os.path.join(DATA_DIR, 'train.csv'))"
   ]
  },
  {
   "cell_type": "code",
   "execution_count": null,
   "metadata": {},
   "outputs": [],
   "source": [
    "data_society = data[data['target'] == 2]\n",
    "data_economy = data[data['target'] == 1]"
   ]
  },
  {
   "cell_type": "code",
   "execution_count": null,
   "metadata": {},
   "outputs": [],
   "source": [
    "synthetic_data = []\n",
    "\n",
    "for text, other_text in zip(data_society['text'], data[data['target'] == 0]['text']):\n",
    "    new_text = text + '. ' + other_text\n",
    "    synthetic_data.append(new_text)\n",
    "for text, other_text in zip(data_society['text'], data[data['target'] == 1]['text']):\n",
    "    new_text = text + '. ' + other_text\n",
    "    synthetic_data.append(new_text)\n",
    "# for text, other_text in zip(data_society['text'], data[data['target'] == 3]['text']):\n",
    "#     new_text = text + '. ' + other_text\n",
    "#     synthetic_data.append(new_text)\n",
    "for text, other_text in zip(data_society['text'], data[data['target'] == 4]['text']):\n",
    "    new_text = text + '. ' + other_text\n",
    "    synthetic_data.append(new_text)\n",
    "# for text, other_text in zip(data_society['text'], data[data['target'] == 5]['text']):\n",
    "#     new_text = text + '. ' + other_text\n",
    "#     synthetic_data.append(new_text)\n",
    "for text, other_text in zip(data_society['text'], data[data['target'] == 6]['text']):\n",
    "    new_text = text + '. ' + other_text\n",
    "    synthetic_data.append(new_text)"
   ]
  },
  {
   "cell_type": "code",
   "execution_count": null,
   "metadata": {},
   "outputs": [],
   "source": [
    "# synthetic_data_2 = []\n",
    "# # economy + science = economy\n",
    "# for text, other_text in zip(data_economy['text'], data[data['target'] == 0]['text']):\n",
    "#     new_text = text + '. ' + other_text\n",
    "#     synthetic_data_2.append(new_text)"
   ]
  },
  {
   "cell_type": "code",
   "execution_count": null,
   "metadata": {},
   "outputs": [],
   "source": [
    "len(synthetic_data)"
   ]
  },
  {
   "cell_type": "code",
   "execution_count": null,
   "metadata": {},
   "outputs": [],
   "source": [
    "# ID = None, text = synthetic_data, label = 2, url = None, date = None\n",
    "synthetic_data = pd.DataFrame({'id': None, 'text': synthetic_data, 'target': 2, 'url': None, 'date': None})\n",
    "# synthetic_data_2 = pd.DataFrame({'id': None, 'text': synthetic_data_2, 'target': 1, 'url': None, 'date': None})\n",
    "\n",
    "# save synthetic_data\n",
    "# synthetic_data.to_csv(os.path.join(DATA_DIR, 'synthetic_data.csv'), index=False)"
   ]
  },
  {
   "cell_type": "code",
   "execution_count": null,
   "metadata": {},
   "outputs": [],
   "source": [
    "synthetic_data['text'][1]"
   ]
  },
  {
   "cell_type": "code",
   "execution_count": null,
   "metadata": {},
   "outputs": [],
   "source": [
    "# concat data and synthetic_data\n",
    "data = pd.concat([data, synthetic_data], ignore_index=True)\n",
    "# data = pd.concat([data, synthetic_data, synthetic_data_2], ignore_index=True)\n",
    "data.to_csv(os.path.join(DATA_DIR, 'synthetic_data.csv'), index=False)"
   ]
  },
  {
   "cell_type": "code",
   "execution_count": null,
   "metadata": {},
   "outputs": [],
   "source": [
    "data"
   ]
  },
  {
   "cell_type": "code",
   "execution_count": null,
   "metadata": {},
   "outputs": [],
   "source": []
  }
 ],
 "metadata": {
  "kernelspec": {
   "display_name": "base",
   "language": "python",
   "name": "python3"
  },
  "language_info": {
   "codemirror_mode": {
    "name": "ipython",
    "version": 3
   },
   "file_extension": ".py",
   "mimetype": "text/x-python",
   "name": "python",
   "nbconvert_exporter": "python",
   "pygments_lexer": "ipython3",
   "version": "3.8.5"
  }
 },
 "nbformat": 4,
 "nbformat_minor": 2
}
