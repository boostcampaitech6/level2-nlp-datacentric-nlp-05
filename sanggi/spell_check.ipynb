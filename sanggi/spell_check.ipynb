{
 "cells": [
  {
   "cell_type": "code",
   "execution_count": 1,
   "metadata": {},
   "outputs": [],
   "source": [
    "# venv3\n",
    "from pyhanspell.hanspell import spell_checker"
   ]
  },
  {
   "cell_type": "code",
   "execution_count": 2,
   "metadata": {},
   "outputs": [
    {
     "data": {
      "text/plain": [
       "'이겨 왜 안돼?'"
      ]
     },
     "execution_count": 2,
     "metadata": {},
     "output_type": "execute_result"
    }
   ],
   "source": [
    "text = '이겨 외않되?'\n",
    "s_text = spell_checker.check(text)\n",
    "s_text.checked"
   ]
  },
  {
   "cell_type": "code",
   "execution_count": 8,
   "metadata": {},
   "outputs": [
    {
     "data": {
      "text/html": [
       "<div>\n",
       "<style scoped>\n",
       "    .dataframe tbody tr th:only-of-type {\n",
       "        vertical-align: middle;\n",
       "    }\n",
       "\n",
       "    .dataframe tbody tr th {\n",
       "        vertical-align: top;\n",
       "    }\n",
       "\n",
       "    .dataframe thead th {\n",
       "        text-align: right;\n",
       "    }\n",
       "</style>\n",
       "<table border=\"1\" class=\"dataframe\">\n",
       "  <thead>\n",
       "    <tr style=\"text-align: right;\">\n",
       "      <th></th>\n",
       "      <th>ID</th>\n",
       "      <th>text</th>\n",
       "      <th>target</th>\n",
       "      <th>url</th>\n",
       "      <th>date</th>\n",
       "    </tr>\n",
       "  </thead>\n",
       "  <tbody>\n",
       "    <tr>\n",
       "      <th>0</th>\n",
       "      <td>ynat-v1_train_00000</td>\n",
       "      <td>개포2단지 분양 앞두고 개포지구 재건축 불붙어</td>\n",
       "      <td>1</td>\n",
       "      <td>https://news.naver.com/main/read.nhn?mode=LS2D...</td>\n",
       "      <td>2016.03.16. 오전 11:37</td>\n",
       "    </tr>\n",
       "    <tr>\n",
       "      <th>1</th>\n",
       "      <td>ynat-v1_train_00001</td>\n",
       "      <td>삼성전자 KBIS 2018서 셰프컬렉션 선보여</td>\n",
       "      <td>0</td>\n",
       "      <td>https://news.naver.com/main/read.nhn?mode=LS2D...</td>\n",
       "      <td>2018.01.10. 오전 8:33</td>\n",
       "    </tr>\n",
       "    <tr>\n",
       "      <th>2</th>\n",
       "      <td>ynat-v1_train_00002</td>\n",
       "      <td>LG G6 사면 BO 이어폰이 단돈 5천원</td>\n",
       "      <td>0</td>\n",
       "      <td>https://news.naver.com/main/read.nhn?mode=LS2D...</td>\n",
       "      <td>2017.04.30. 오전 10:00</td>\n",
       "    </tr>\n",
       "    <tr>\n",
       "      <th>3</th>\n",
       "      <td>ynat-v1_train_00003</td>\n",
       "      <td>신간 블록체인혁명 2030·남자의 고독사</td>\n",
       "      <td>3</td>\n",
       "      <td>https://news.naver.com/main/read.nhn?mode=LS2D...</td>\n",
       "      <td>2019.06.13. 오전 11:49</td>\n",
       "    </tr>\n",
       "    <tr>\n",
       "      <th>4</th>\n",
       "      <td>ynat-v1_train_00004</td>\n",
       "      <td>이스라엘 정보당국 팔레스타인인 50명 테러 혐의로 체포</td>\n",
       "      <td>4</td>\n",
       "      <td>https://news.naver.com/main/read.nhn?mode=LS2D...</td>\n",
       "      <td>2019.12.18. 오후 11:15</td>\n",
       "    </tr>\n",
       "  </tbody>\n",
       "</table>\n",
       "</div>"
      ],
      "text/plain": [
       "                    ID                            text  target   \n",
       "0  ynat-v1_train_00000       개포2단지 분양 앞두고 개포지구 재건축 불붙어       1  \\\n",
       "1  ynat-v1_train_00001       삼성전자 KBIS 2018서 셰프컬렉션 선보여       0   \n",
       "2  ynat-v1_train_00002         LG G6 사면 BO 이어폰이 단돈 5천원       0   \n",
       "3  ynat-v1_train_00003          신간 블록체인혁명 2030·남자의 고독사       3   \n",
       "4  ynat-v1_train_00004  이스라엘 정보당국 팔레스타인인 50명 테러 혐의로 체포       4   \n",
       "\n",
       "                                                 url                  date  \n",
       "0  https://news.naver.com/main/read.nhn?mode=LS2D...  2016.03.16. 오전 11:37  \n",
       "1  https://news.naver.com/main/read.nhn?mode=LS2D...   2018.01.10. 오전 8:33  \n",
       "2  https://news.naver.com/main/read.nhn?mode=LS2D...  2017.04.30. 오전 10:00  \n",
       "3  https://news.naver.com/main/read.nhn?mode=LS2D...  2019.06.13. 오전 11:49  \n",
       "4  https://news.naver.com/main/read.nhn?mode=LS2D...  2019.12.18. 오후 11:15  "
      ]
     },
     "execution_count": 8,
     "metadata": {},
     "output_type": "execute_result"
    }
   ],
   "source": [
    "import os\n",
    "import pandas as pd\n",
    "\n",
    "BASE_DIR = os.getcwd()\n",
    "DATA_DIR = os.path.join(BASE_DIR, '../data')\n",
    "\n",
    "df = pd.read_csv(os.path.join(DATA_DIR, 'train.csv'))\n",
    "test_df = pd.read_csv(os.path.join(DATA_DIR, 'test.csv'))\n",
    "df.head()"
   ]
  },
  {
   "cell_type": "code",
   "execution_count": 4,
   "metadata": {},
   "outputs": [],
   "source": [
    "def spell_check(text):\n",
    "    return spell_checker.check(text).checked"
   ]
  },
  {
   "cell_type": "code",
   "execution_count": 5,
   "metadata": {},
   "outputs": [],
   "source": [
    "spell_check_df = df.copy()\n",
    "spell_check_df['text'] = df['text'].apply(spell_check)"
   ]
  },
  {
   "cell_type": "code",
   "execution_count": 7,
   "metadata": {},
   "outputs": [],
   "source": [
    "spell_check_df.to_csv('../data/check_spell_train.csv', index=False)"
   ]
  },
  {
   "cell_type": "code",
   "execution_count": 21,
   "metadata": {},
   "outputs": [],
   "source": [
    "spell_check_df.to_csv('../data/spell_check_train.csv', index=False)"
   ]
  }
 ],
 "metadata": {
  "kernelspec": {
   "display_name": "venv3",
   "language": "python",
   "name": "python3"
  },
  "language_info": {
   "codemirror_mode": {
    "name": "ipython",
    "version": 3
   },
   "file_extension": ".py",
   "mimetype": "text/x-python",
   "name": "python",
   "nbconvert_exporter": "python",
   "pygments_lexer": "ipython3",
   "version": "3.8.5"
  }
 },
 "nbformat": 4,
 "nbformat_minor": 2
}
